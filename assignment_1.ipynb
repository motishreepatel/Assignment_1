{
 "cells": [
  {
   "cell_type": "code",
   "execution_count": 1,
   "id": "e4a71dc3",
   "metadata": {},
   "outputs": [],
   "source": [
    "#q1: In the below elements which of them are values or an expression? eg:- values can be\n",
    "#integer or string and expressions will be mathematical operators.\n",
    "# *   'hello'  -87.8  -   /  +   6"
   ]
  },
  {
   "cell_type": "code",
   "execution_count": null,
   "id": "69227baa",
   "metadata": {},
   "outputs": [],
   "source": [
    "#q1 answer\n",
    "Here are Values:\n",
    "'hello'\n",
    "-87.8\n",
    "6\n",
    "\n",
    "Here are Expressions:\n",
    "*\n",
    "-\n",
    "/\n",
    "+"
   ]
  },
  {
   "cell_type": "code",
   "execution_count": null,
   "id": "4f0d1b63",
   "metadata": {},
   "outputs": [],
   "source": [
    "#q2: What is the difference between string and variable?"
   ]
  },
  {
   "cell_type": "code",
   "execution_count": null,
   "id": "fa806e85",
   "metadata": {},
   "outputs": [],
   "source": [
    "#q2 answer\n",
    "Variable:\n",
    "Variable is used to store any value or information by occupying some memory in computer.\n",
    "\n",
    "String:\n",
    "String is a type of variable written within \"\" or ''\n",
    "\n",
    "so in below example \n",
    "x = \"How are you\"\n",
    "\n",
    "x is a variable and \n",
    "\"How are you\" is a string"
   ]
  },
  {
   "cell_type": "code",
   "execution_count": null,
   "id": "9df38104",
   "metadata": {},
   "outputs": [],
   "source": [
    "#q3: Describe three different data types."
   ]
  },
  {
   "cell_type": "code",
   "execution_count": null,
   "id": "165a2e8a",
   "metadata": {},
   "outputs": [],
   "source": [
    "#q3 answer:\n",
    "1. List Datatype:\n",
    "- Lists are created using [] square bracket\n",
    "- List datatype is used to store multiple items in a single variable\n",
    "- We can change, add or remove list items once its created which makes it iterable\n",
    "- List allows duplicate values as well\n",
    "\n",
    "2. Dictionary Datatype:\n",
    "- Dictionaries are written with curly brackets {}\n",
    "- Dictionaries stores data in key value pairs\n",
    "- key value pairs in dictioanry can be accessed using dictionaryname.items(), all keys can be accessed using \n",
    "dictionaryname.keys() and all values can be accessed using dictionaryname.values()\n",
    "\n",
    "3. Tuple Datatype:\n",
    "- Tuples are written with round brackets ()\n",
    "- We cannot change, add or remove tuples value once its created, means it is non-iterable\n",
    "- Tuples can have items with same values\n",
    "    "
   ]
  },
  {
   "cell_type": "code",
   "execution_count": null,
   "id": "bb07f048",
   "metadata": {},
   "outputs": [],
   "source": [
    "#q4 : What is an expression made up of? What do all expressions do?"
   ]
  },
  {
   "cell_type": "code",
   "execution_count": null,
   "id": "ec94cd3a",
   "metadata": {},
   "outputs": [],
   "source": [
    "#q4 answer:\n",
    "An expression is a combination of one or more operators and operands. The expressions are evaluated based on \n",
    "the priorities of different operators to give us a final result."
   ]
  },
  {
   "cell_type": "code",
   "execution_count": null,
   "id": "787dd108",
   "metadata": {},
   "outputs": [],
   "source": [
    "#q5: This assignment statements, like spam = 10. What is the difference between an expression and a statement?"
   ]
  },
  {
   "cell_type": "code",
   "execution_count": null,
   "id": "f489ab11",
   "metadata": {},
   "outputs": [],
   "source": [
    "#q5 answer:\n",
    "An expression meant to return some values but statements don't need to.\n",
    "variable declaration, print are the examples of statements as they don't return anything but\n",
    "function call, arithmatic operators are the examples of expressions as they return values.\n"
   ]
  },
  {
   "cell_type": "code",
   "execution_count": null,
   "id": "f85a82c9",
   "metadata": {},
   "outputs": [],
   "source": [
    "#q6: After running the following code, what does the variable bacon contain?\n",
    "#bacon = 22\n",
    "#bacon + 1"
   ]
  },
  {
   "cell_type": "code",
   "execution_count": 1,
   "id": "d1aaf4e2",
   "metadata": {},
   "outputs": [
    {
     "data": {
      "text/plain": [
       "23"
      ]
     },
     "execution_count": 1,
     "metadata": {},
     "output_type": "execute_result"
    }
   ],
   "source": [
    "#q6 answer:\n",
    "bacon = 22\n",
    "bacon+1"
   ]
  },
  {
   "cell_type": "code",
   "execution_count": 2,
   "id": "70cf160a",
   "metadata": {},
   "outputs": [
    {
     "name": "stdout",
     "output_type": "stream",
     "text": [
      "22\n"
     ]
    }
   ],
   "source": [
    "print(bacon)"
   ]
  },
  {
   "cell_type": "code",
   "execution_count": null,
   "id": "43b4333f",
   "metadata": {},
   "outputs": [],
   "source": [
    "So after running the following code, variable bacon will have value 22"
   ]
  },
  {
   "cell_type": "code",
   "execution_count": null,
   "id": "630a04f5",
   "metadata": {},
   "outputs": [],
   "source": [
    "#q7: What should the values of the following two terms be?\n",
    "# 'spam' + 'spamspam'\n",
    "# 'spam'* 3"
   ]
  },
  {
   "cell_type": "code",
   "execution_count": 6,
   "id": "87e95602",
   "metadata": {},
   "outputs": [
    {
     "name": "stdout",
     "output_type": "stream",
     "text": [
      "spamspamspam\n"
     ]
    }
   ],
   "source": [
    "print(('spam' + 'spamspam'))"
   ]
  },
  {
   "cell_type": "code",
   "execution_count": 9,
   "id": "cd04f65f",
   "metadata": {},
   "outputs": [
    {
     "name": "stdout",
     "output_type": "stream",
     "text": [
      "spamspamspam\n"
     ]
    }
   ],
   "source": [
    "print(('spam'* 3))"
   ]
  },
  {
   "cell_type": "code",
   "execution_count": null,
   "id": "cf489914",
   "metadata": {},
   "outputs": [],
   "source": [
    "so both the terms have same output spamspamspam"
   ]
  },
  {
   "cell_type": "code",
   "execution_count": null,
   "id": "4e23009c",
   "metadata": {},
   "outputs": [],
   "source": [
    "#q8: Why is eggs a valid variable name while 100 is invalid?"
   ]
  },
  {
   "cell_type": "code",
   "execution_count": null,
   "id": "c40c2256",
   "metadata": {},
   "outputs": [],
   "source": [
    "#q8 answer:\n",
    "In python, variables can contain alpha numeric values and underscore but variables cannot start with a number. \n",
    "So, eggs is a valid variable name but 100 is not."
   ]
  },
  {
   "cell_type": "code",
   "execution_count": null,
   "id": "ab9042c9",
   "metadata": {},
   "outputs": [],
   "source": [
    "#q9: What three functions can be used to get the integer, floating-point number, or string version of a value?"
   ]
  },
  {
   "cell_type": "code",
   "execution_count": 12,
   "id": "2b693833",
   "metadata": {},
   "outputs": [
    {
     "name": "stdout",
     "output_type": "stream",
     "text": [
      "23\n",
      "23.5674\n",
      "23.5674\n"
     ]
    }
   ],
   "source": [
    "#q9 answer:\n",
    "print(int(23.5674))\n",
    "print(float(23.5674))\n",
    "print(str(23.5674))"
   ]
  },
  {
   "cell_type": "code",
   "execution_count": null,
   "id": "a64e2f11",
   "metadata": {},
   "outputs": [],
   "source": [
    "#10. Why does this expression cause an error? How can you fix it?\n",
    "#'I have eaten' + 99 + 'burritos'"
   ]
  },
  {
   "cell_type": "code",
   "execution_count": 13,
   "id": "1f1f25cf",
   "metadata": {},
   "outputs": [
    {
     "ename": "TypeError",
     "evalue": "can only concatenate str (not \"int\") to str",
     "output_type": "error",
     "traceback": [
      "\u001b[0;31m---------------------------------------------------------------------------\u001b[0m",
      "\u001b[0;31mTypeError\u001b[0m                                 Traceback (most recent call last)",
      "\u001b[0;32m/var/folders/6d/7kpqxgm142qc20s583q5q0zw0000gp/T/ipykernel_28714/2060278632.py\u001b[0m in \u001b[0;36m<module>\u001b[0;34m\u001b[0m\n\u001b[1;32m      1\u001b[0m \u001b[0;31m#q10 answer:\u001b[0m\u001b[0;34m\u001b[0m\u001b[0;34m\u001b[0m\u001b[0m\n\u001b[0;32m----> 2\u001b[0;31m \u001b[0mprint\u001b[0m\u001b[0;34m(\u001b[0m\u001b[0;34m(\u001b[0m\u001b[0;34m'I have eaten'\u001b[0m \u001b[0;34m+\u001b[0m \u001b[0;36m99\u001b[0m \u001b[0;34m+\u001b[0m \u001b[0;34m'burritos'\u001b[0m\u001b[0;34m)\u001b[0m\u001b[0;34m)\u001b[0m\u001b[0;34m\u001b[0m\u001b[0;34m\u001b[0m\u001b[0m\n\u001b[0m",
      "\u001b[0;31mTypeError\u001b[0m: can only concatenate str (not \"int\") to str"
     ]
    }
   ],
   "source": [
    "#q10 answer:\n",
    "print(('I have eaten' + 99 + 'burritos'))\n",
    "# this expression cause an error because we cannot concatenate a string to int value. \n",
    "# string can only concatenate to another string"
   ]
  },
  {
   "cell_type": "code",
   "execution_count": 14,
   "id": "49b72261",
   "metadata": {},
   "outputs": [
    {
     "name": "stdout",
     "output_type": "stream",
     "text": [
      "I have eatenburritos\n"
     ]
    }
   ],
   "source": [
    "print(('I have eaten' + 'burritos')) #like here we can concatenate a string with another string"
   ]
  },
  {
   "cell_type": "code",
   "execution_count": 15,
   "id": "c0e6389f",
   "metadata": {},
   "outputs": [
    {
     "name": "stdout",
     "output_type": "stream",
     "text": [
      "I have eaten99burritos\n"
     ]
    }
   ],
   "source": [
    "print(('I have eaten' + str(99) + 'burritos')) #here we can typecast int value to str and then concatenate them. So here is the solution"
   ]
  },
  {
   "cell_type": "code",
   "execution_count": null,
   "id": "7d075815",
   "metadata": {},
   "outputs": [],
   "source": []
  }
 ],
 "metadata": {
  "kernelspec": {
   "display_name": "Python 3 (ipykernel)",
   "language": "python",
   "name": "python3"
  },
  "language_info": {
   "codemirror_mode": {
    "name": "ipython",
    "version": 3
   },
   "file_extension": ".py",
   "mimetype": "text/x-python",
   "name": "python",
   "nbconvert_exporter": "python",
   "pygments_lexer": "ipython3",
   "version": "3.9.7"
  }
 },
 "nbformat": 4,
 "nbformat_minor": 5
}
